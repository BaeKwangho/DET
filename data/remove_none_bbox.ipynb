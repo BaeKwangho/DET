{
 "cells": [
  {
   "cell_type": "code",
   "execution_count": 7,
   "metadata": {
    "scrolled": true
   },
   "outputs": [],
   "source": [
    "import pickle\n",
    "import os\n",
    "\n",
    "data_path = '/root/storage/BKH/DET/train_data/dataset_v1.3/02/'\n",
    "\n",
    "box_folder = 'orig_boxes'\n",
    "img_folder = 'orig_texts'\n",
    "\n",
    "data_list = []\n",
    "for filename in os.listdir(os.path.join(data_path,box_folder)):\n",
    "    file = filename.split('.')[0]\n",
    "    data_list.append(file)\n",
    "\n",
    "for i in data_list:\n",
    "    with open(os.path.join(data_path,\\\n",
    "                           box_folder,\\\n",
    "                           i+'.pkl'),'rb') as f:\n",
    "        boxes = pickle.load(f)\n",
    "\n",
    "    for i,word in enumerate(boxes):\n",
    "        for j,point in enumerate(boxes[i]['box']):\n",
    "            temp = point[0]\n",
    "            boxes[i]['box'][j][0] = point[1]\n",
    "            boxes[i]['box'][j][1] = temp\n",
    "        exchange = boxes[i]['box'][2]\n",
    "        boxes[i]['box'][2] = boxes[i]['box'][3]\n",
    "        boxes[i]['box'][3] = exchange\n",
    "\n",
    "    if len(boxes) == 0:\n",
    "        os.remove(os.path.join(data_path, box_folder,i+'.pkl'))\n",
    "        os.remove(os.path.join(data_path, img_folder,i+'.png'))\n",
    "        print(f'{data_path} - {i} deleted')"
   ]
  },
  {
   "cell_type": "code",
   "execution_count": null,
   "metadata": {},
   "outputs": [],
   "source": []
  }
 ],
 "metadata": {
  "kernelspec": {
   "display_name": "Python 3",
   "language": "python",
   "name": "python3"
  },
  "language_info": {
   "codemirror_mode": {
    "name": "ipython",
    "version": 3
   },
   "file_extension": ".py",
   "mimetype": "text/x-python",
   "name": "python",
   "nbconvert_exporter": "python",
   "pygments_lexer": "ipython3",
   "version": "3.6.8"
  }
 },
 "nbformat": 4,
 "nbformat_minor": 2
}
